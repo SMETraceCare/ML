{
  "nbformat": 4,
  "nbformat_minor": 0,
  "metadata": {
    "colab": {
      "provenance": []
    },
    "kernelspec": {
      "name": "python3",
      "display_name": "Python 3"
    },
    "language_info": {
      "name": "python"
    }
  },
  "cells": [
    {
      "cell_type": "code",
      "source": [
        "import tensorflow as tf\n",
        "from tensorflow.keras.models import Sequential\n",
        "from tensorflow.keras.layers import Dense, Conv2D, MaxPooling2D, Flatten\n",
        "from tensorflow.keras.preprocessing.image import ImageDataGenerator\n",
        "import numpy as np\n",
        "import matplotlib.pyplot as plt"
      ],
      "metadata": {
        "id": "-RHqjG7mmkn9"
      },
      "execution_count": 18,
      "outputs": []
    },
    {
      "cell_type": "markdown",
      "source": [
        "# New Section"
      ],
      "metadata": {
        "id": "hNRYYeo8iERx"
      }
    },
    {
      "cell_type": "code",
      "source": [
        "!mkdir -p ~/.kaggle\n",
        "!cp kaggle.json ~/.kaggle/\n",
        "!chmod 600 ~/.kaggle/kaggle.json"
      ],
      "metadata": {
        "id": "6YOfUpTKhJ9t"
      },
      "execution_count": null,
      "outputs": []
    },
    {
      "cell_type": "code",
      "source": [
        "!ls ~/.kaggle"
      ],
      "metadata": {
        "colab": {
          "base_uri": "https://localhost:8080/"
        },
        "id": "M5Y8coVaibfY",
        "outputId": "054083bb-3475-46b4-c6ed-5dd322ee8b48"
      },
      "execution_count": null,
      "outputs": [
        {
          "output_type": "stream",
          "name": "stdout",
          "text": [
            "kaggle.json\n"
          ]
        }
      ]
    },
    {
      "cell_type": "code",
      "source": [
        "!kaggle datasets download -d alfanme/indonesian-batik-motifs-corak-app"
      ],
      "metadata": {
        "colab": {
          "base_uri": "https://localhost:8080/"
        },
        "id": "FtALceZRicdU",
        "outputId": "74ae40e5-12c4-470c-e697-84a0b0662168"
      },
      "execution_count": 8,
      "outputs": [
        {
          "output_type": "stream",
          "name": "stdout",
          "text": [
            "Dataset URL: https://www.kaggle.com/datasets/alfanme/indonesian-batik-motifs-corak-app\n",
            "License(s): CC0-1.0\n",
            "Downloading indonesian-batik-motifs-corak-app.zip to /content\n",
            " 89% 139M/156M [00:01<00:00, 118MB/s]\n",
            "100% 156M/156M [00:01<00:00, 106MB/s]\n"
          ]
        }
      ]
    },
    {
      "cell_type": "code",
      "source": [
        "import zipfile\n",
        "zip_file = zipfile.ZipFile('/content/indonesian-batik-motifs-corak-app.zip')\n",
        "zip_file.extractall('/tmp/')"
      ],
      "metadata": {
        "id": "taeZD-4qjkCm"
      },
      "execution_count": 10,
      "outputs": []
    },
    {
      "cell_type": "code",
      "source": [
        "#import ImageDataGenerator\n",
        "from tensorflow.keras.preprocessing.image import ImageDataGenerator"
      ],
      "metadata": {
        "id": "1JvH-i8mj2XE"
      },
      "execution_count": 19,
      "outputs": []
    },
    {
      "cell_type": "code",
      "source": [
        "#training generator\n",
        "train_generator = ImageDataGenerator(rescale=1/255,\n",
        "                                     horizontal_flip=True,\n",
        "                                     vertical_flip=True,\n",
        "                                     rotation_range=60,\n",
        "                                     zoom_range=0.3,\n",
        "                                     fill_mode='nearest')"
      ],
      "metadata": {
        "id": "AvXQvqSBksqG"
      },
      "execution_count": 13,
      "outputs": []
    },
    {
      "cell_type": "code",
      "source": [
        "#training data generator\n",
        "train_data = train_generator.flow_from_directory('/tmp/DATASETv7/TRAIN',\n",
        "                                                 target_size=(224,224),\n",
        "                                                 batch_size=105,\n",
        "                                                 class_mode='categorical',)"
      ],
      "metadata": {
        "colab": {
          "base_uri": "https://localhost:8080/"
        },
        "id": "ddxV1W66lcoL",
        "outputId": "5ba63966-15b1-4afb-d9bf-ff9f414dfacb"
      },
      "execution_count": 27,
      "outputs": [
        {
          "output_type": "stream",
          "name": "stdout",
          "text": [
            "Found 1050 images belonging to 15 classes.\n"
          ]
        }
      ]
    },
    {
      "cell_type": "code",
      "source": [
        "#membuat data validasi\n",
        "val_generator = ImageDataGenerator(rescale=1/255)\n",
        "\n",
        "val_data = val_generator.flow_from_directory('/tmp/DATASETv7/TEST',\n",
        "                                             target_size=(224,224),\n",
        "                                             class_mode='categorical',\n",
        "                                             batch_size=30,)"
      ],
      "metadata": {
        "colab": {
          "base_uri": "https://localhost:8080/"
        },
        "id": "l_2ZoBoYmkF6",
        "outputId": "5de2526c-2a34-4be9-f92d-6a9bcd0606a8"
      },
      "execution_count": 28,
      "outputs": [
        {
          "output_type": "stream",
          "name": "stdout",
          "text": [
            "Found 300 images belonging to 15 classes.\n"
          ]
        }
      ]
    },
    {
      "cell_type": "code",
      "source": [
        "#kontruksi model\n",
        "from tensorflow.keras.models import Sequential\n",
        "from tensorflow.keras.layers import Conv2D, MaxPooling2D, Flatten, Dense\n",
        "\n",
        "model = Sequential([\n",
        "    Conv2D(16, (3, 3), activation='relu', input_shape=(224, 224, 3)),\n",
        "    MaxPooling2D(2,2),\n",
        "    Conv2D(32, (3, 3), activation='relu'),\n",
        "    MaxPooling2D(3,3),\n",
        "    Flatten(),\n",
        "    Dense(128, activation='relu'),\n",
        "    Dense(128, activation='relu'),\n",
        "    Dense(15, activation='softmax'),\n",
        "])"
      ],
      "metadata": {
        "id": "iVViwxc6nVUW"
      },
      "execution_count": 29,
      "outputs": []
    },
    {
      "cell_type": "code",
      "source": [
        "#compile\n",
        "model.compile(optimizer='adam', loss='categorical_crossentropy', metrics=['accuracy'])"
      ],
      "metadata": {
        "id": "2yu5hYcrqf-T"
      },
      "execution_count": 30,
      "outputs": []
    },
    {
      "cell_type": "code",
      "source": [
        "history = model.fit(train_data,\n",
        "                    steps_per_epoch=10,\n",
        "                    epochs=50,\n",
        "                    validation_data=val_data,\n",
        "                    validation_steps=10,\n",
        "                    verbose=2)"
      ],
      "metadata": {
        "colab": {
          "base_uri": "https://localhost:8080/"
        },
        "id": "4m2hFi3srEZg",
        "outputId": "d40faca9-5eed-44a3-8405-4a27a126a84e"
      },
      "execution_count": 32,
      "outputs": [
        {
          "output_type": "stream",
          "name": "stdout",
          "text": [
            "Epoch 1/50\n",
            "10/10 - 66s - loss: 2.8994 - accuracy: 0.0848 - val_loss: 2.6737 - val_accuracy: 0.1333 - 66s/epoch - 7s/step\n",
            "Epoch 2/50\n",
            "10/10 - 53s - loss: 2.6357 - accuracy: 0.1505 - val_loss: 2.5831 - val_accuracy: 0.1467 - 53s/epoch - 5s/step\n",
            "Epoch 3/50\n",
            "10/10 - 52s - loss: 2.5459 - accuracy: 0.1571 - val_loss: 2.5593 - val_accuracy: 0.1567 - 52s/epoch - 5s/step\n",
            "Epoch 4/50\n",
            "10/10 - 53s - loss: 2.4790 - accuracy: 0.1952 - val_loss: 2.5604 - val_accuracy: 0.1767 - 53s/epoch - 5s/step\n",
            "Epoch 5/50\n",
            "10/10 - 53s - loss: 2.4260 - accuracy: 0.2276 - val_loss: 2.4731 - val_accuracy: 0.2133 - 53s/epoch - 5s/step\n",
            "Epoch 6/50\n",
            "10/10 - 52s - loss: 2.3636 - accuracy: 0.2229 - val_loss: 2.4929 - val_accuracy: 0.1967 - 52s/epoch - 5s/step\n",
            "Epoch 7/50\n",
            "10/10 - 53s - loss: 2.3333 - accuracy: 0.2438 - val_loss: 2.5089 - val_accuracy: 0.1833 - 53s/epoch - 5s/step\n",
            "Epoch 8/50\n",
            "10/10 - 53s - loss: 2.2872 - accuracy: 0.2657 - val_loss: 2.4712 - val_accuracy: 0.2133 - 53s/epoch - 5s/step\n",
            "Epoch 9/50\n",
            "10/10 - 53s - loss: 2.2399 - accuracy: 0.2724 - val_loss: 2.4071 - val_accuracy: 0.2433 - 53s/epoch - 5s/step\n",
            "Epoch 10/50\n",
            "10/10 - 51s - loss: 2.1961 - accuracy: 0.2657 - val_loss: 2.4010 - val_accuracy: 0.2567 - 51s/epoch - 5s/step\n",
            "Epoch 11/50\n",
            "10/10 - 62s - loss: 2.1398 - accuracy: 0.2981 - val_loss: 2.3578 - val_accuracy: 0.2533 - 62s/epoch - 6s/step\n",
            "Epoch 12/50\n",
            "10/10 - 53s - loss: 2.0948 - accuracy: 0.3086 - val_loss: 2.4122 - val_accuracy: 0.2667 - 53s/epoch - 5s/step\n",
            "Epoch 13/50\n",
            "10/10 - 54s - loss: 2.0510 - accuracy: 0.3200 - val_loss: 2.3222 - val_accuracy: 0.2700 - 54s/epoch - 5s/step\n",
            "Epoch 14/50\n",
            "10/10 - 54s - loss: 2.0383 - accuracy: 0.3390 - val_loss: 2.2846 - val_accuracy: 0.2867 - 54s/epoch - 5s/step\n",
            "Epoch 15/50\n",
            "10/10 - 52s - loss: 1.9565 - accuracy: 0.3571 - val_loss: 2.2348 - val_accuracy: 0.2767 - 52s/epoch - 5s/step\n",
            "Epoch 16/50\n",
            "10/10 - 54s - loss: 1.9258 - accuracy: 0.3695 - val_loss: 2.2576 - val_accuracy: 0.3100 - 54s/epoch - 5s/step\n",
            "Epoch 17/50\n",
            "10/10 - 54s - loss: 1.8867 - accuracy: 0.3857 - val_loss: 2.3290 - val_accuracy: 0.2600 - 54s/epoch - 5s/step\n",
            "Epoch 18/50\n",
            "10/10 - 53s - loss: 1.8418 - accuracy: 0.4057 - val_loss: 2.2053 - val_accuracy: 0.3000 - 53s/epoch - 5s/step\n",
            "Epoch 19/50\n",
            "10/10 - 53s - loss: 1.8245 - accuracy: 0.3981 - val_loss: 2.2641 - val_accuracy: 0.2967 - 53s/epoch - 5s/step\n",
            "Epoch 20/50\n",
            "10/10 - 52s - loss: 1.8415 - accuracy: 0.3952 - val_loss: 2.4490 - val_accuracy: 0.2933 - 52s/epoch - 5s/step\n",
            "Epoch 21/50\n",
            "10/10 - 53s - loss: 1.8499 - accuracy: 0.4057 - val_loss: 2.3618 - val_accuracy: 0.3000 - 53s/epoch - 5s/step\n",
            "Epoch 22/50\n",
            "10/10 - 62s - loss: 1.7556 - accuracy: 0.4381 - val_loss: 2.1828 - val_accuracy: 0.3367 - 62s/epoch - 6s/step\n",
            "Epoch 23/50\n",
            "10/10 - 53s - loss: 1.7361 - accuracy: 0.4295 - val_loss: 2.4554 - val_accuracy: 0.2933 - 53s/epoch - 5s/step\n",
            "Epoch 24/50\n",
            "10/10 - 54s - loss: 1.7367 - accuracy: 0.4210 - val_loss: 2.2685 - val_accuracy: 0.3167 - 54s/epoch - 5s/step\n",
            "Epoch 25/50\n",
            "10/10 - 54s - loss: 1.6808 - accuracy: 0.4495 - val_loss: 2.3455 - val_accuracy: 0.3300 - 54s/epoch - 5s/step\n",
            "Epoch 26/50\n",
            "10/10 - 53s - loss: 1.6316 - accuracy: 0.4810 - val_loss: 2.3070 - val_accuracy: 0.3200 - 53s/epoch - 5s/step\n",
            "Epoch 27/50\n",
            "10/10 - 54s - loss: 1.6743 - accuracy: 0.4495 - val_loss: 2.4333 - val_accuracy: 0.3033 - 54s/epoch - 5s/step\n",
            "Epoch 28/50\n",
            "10/10 - 53s - loss: 1.6463 - accuracy: 0.4610 - val_loss: 2.3593 - val_accuracy: 0.2967 - 53s/epoch - 5s/step\n",
            "Epoch 29/50\n",
            "10/10 - 53s - loss: 1.5908 - accuracy: 0.4810 - val_loss: 2.3521 - val_accuracy: 0.3167 - 53s/epoch - 5s/step\n",
            "Epoch 30/50\n",
            "10/10 - 53s - loss: 1.6193 - accuracy: 0.4562 - val_loss: 2.5325 - val_accuracy: 0.2933 - 53s/epoch - 5s/step\n",
            "Epoch 31/50\n",
            "10/10 - 53s - loss: 1.6868 - accuracy: 0.4352 - val_loss: 2.3117 - val_accuracy: 0.3367 - 53s/epoch - 5s/step\n",
            "Epoch 32/50\n",
            "10/10 - 62s - loss: 1.6805 - accuracy: 0.4486 - val_loss: 2.3467 - val_accuracy: 0.2900 - 62s/epoch - 6s/step\n",
            "Epoch 33/50\n",
            "10/10 - 54s - loss: 1.6101 - accuracy: 0.4695 - val_loss: 2.3156 - val_accuracy: 0.3300 - 54s/epoch - 5s/step\n",
            "Epoch 34/50\n",
            "10/10 - 53s - loss: 1.5468 - accuracy: 0.4971 - val_loss: 2.5484 - val_accuracy: 0.2900 - 53s/epoch - 5s/step\n",
            "Epoch 35/50\n",
            "10/10 - 54s - loss: 1.5587 - accuracy: 0.4781 - val_loss: 2.3851 - val_accuracy: 0.3500 - 54s/epoch - 5s/step\n",
            "Epoch 36/50\n",
            "10/10 - 54s - loss: 1.5230 - accuracy: 0.4838 - val_loss: 2.4168 - val_accuracy: 0.3300 - 54s/epoch - 5s/step\n",
            "Epoch 37/50\n",
            "10/10 - 54s - loss: 1.4952 - accuracy: 0.4838 - val_loss: 2.4067 - val_accuracy: 0.3500 - 54s/epoch - 5s/step\n",
            "Epoch 38/50\n",
            "10/10 - 52s - loss: 1.4540 - accuracy: 0.5124 - val_loss: 2.3838 - val_accuracy: 0.3567 - 52s/epoch - 5s/step\n",
            "Epoch 39/50\n",
            "10/10 - 53s - loss: 1.4245 - accuracy: 0.5133 - val_loss: 2.5805 - val_accuracy: 0.3200 - 53s/epoch - 5s/step\n",
            "Epoch 40/50\n",
            "10/10 - 55s - loss: 1.4250 - accuracy: 0.5324 - val_loss: 2.3139 - val_accuracy: 0.3533 - 55s/epoch - 5s/step\n",
            "Epoch 41/50\n",
            "10/10 - 55s - loss: 1.3796 - accuracy: 0.5410 - val_loss: 2.4772 - val_accuracy: 0.3300 - 55s/epoch - 5s/step\n",
            "Epoch 42/50\n",
            "10/10 - 62s - loss: 1.3960 - accuracy: 0.5362 - val_loss: 2.3982 - val_accuracy: 0.3433 - 62s/epoch - 6s/step\n",
            "Epoch 43/50\n",
            "10/10 - 54s - loss: 1.3809 - accuracy: 0.5362 - val_loss: 2.4656 - val_accuracy: 0.3600 - 54s/epoch - 5s/step\n",
            "Epoch 44/50\n",
            "10/10 - 54s - loss: 1.3740 - accuracy: 0.5314 - val_loss: 2.5220 - val_accuracy: 0.3300 - 54s/epoch - 5s/step\n",
            "Epoch 45/50\n",
            "10/10 - 55s - loss: 1.3585 - accuracy: 0.5600 - val_loss: 2.4644 - val_accuracy: 0.3700 - 55s/epoch - 5s/step\n",
            "Epoch 46/50\n",
            "10/10 - 54s - loss: 1.3475 - accuracy: 0.5410 - val_loss: 2.4813 - val_accuracy: 0.3267 - 54s/epoch - 5s/step\n",
            "Epoch 47/50\n",
            "10/10 - 53s - loss: 1.3582 - accuracy: 0.5562 - val_loss: 2.4883 - val_accuracy: 0.3467 - 53s/epoch - 5s/step\n",
            "Epoch 48/50\n",
            "10/10 - 54s - loss: 1.3459 - accuracy: 0.5524 - val_loss: 2.4886 - val_accuracy: 0.3600 - 54s/epoch - 5s/step\n",
            "Epoch 49/50\n",
            "10/10 - 54s - loss: 1.2927 - accuracy: 0.5762 - val_loss: 2.5335 - val_accuracy: 0.3200 - 54s/epoch - 5s/step\n",
            "Epoch 50/50\n",
            "10/10 - 54s - loss: 1.2465 - accuracy: 0.5695 - val_loss: 2.6450 - val_accuracy: 0.3333 - 54s/epoch - 5s/step\n"
          ]
        }
      ]
    },
    {
      "cell_type": "code",
      "source": [
        "#perubahan nilai loss akurasi\n",
        "import matplotlib.pyplot as plt\n",
        "plt.plot(history.history['loss'])\n",
        "plt.plot(history.history['val_loss'])\n",
        "plt.title('Nilai Loss tiap Epoch')\n",
        "plt.legend(['training', 'validation'], loc= 'upper right')\n",
        "plt.show()"
      ],
      "metadata": {
        "colab": {
          "base_uri": "https://localhost:8080/",
          "height": 452
        },
        "id": "I-r0PPS034CY",
        "outputId": "ca8b6098-88b8-4f7d-a6a2-98ac8cb7190e"
      },
      "execution_count": 33,
      "outputs": [
        {
          "output_type": "display_data",
          "data": {
            "text/plain": [
              "<Figure size 640x480 with 1 Axes>"
            ],
            "image/png": "[encoded data removed]"
          },
          "metadata": {}
        }
      ]
    },
    {
      "cell_type": "code",
      "source": [
        "from google.colab import drive\n",
        "drive.mount('/content/drive')"
      ],
      "metadata": {
        "id": "jvWORnqM46pa"
      },
      "execution_count": null,
      "outputs": []
    }
  ]
}